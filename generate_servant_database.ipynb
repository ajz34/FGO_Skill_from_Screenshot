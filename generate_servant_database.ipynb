{
 "cells": [
  {
   "cell_type": "markdown",
   "metadata": {},
   "source": [
    "# 简易的从者数据库构建"
   ]
  },
  {
   "cell_type": "markdown",
   "metadata": {},
   "source": [
    "## 环境"
   ]
  },
  {
   "cell_type": "code",
   "execution_count": 1,
   "metadata": {},
   "outputs": [],
   "source": [
    "import numpy as np\n",
    "import matplotlib.pyplot as plt\n",
    "from skimage.transform import resize"
   ]
  },
  {
   "cell_type": "markdown",
   "metadata": {},
   "source": [
    "### 0. 必要函数定义"
   ]
  },
  {
   "cell_type": "code",
   "execution_count": 2,
   "metadata": {},
   "outputs": [],
   "source": [
    "# 定义图像之间差别\n",
    "def image_diff(im_1, im_2, mask=None):\n",
    "    \"\"\"\n",
    "    Variables\n",
    "    ---------\n",
    "    \n",
    "    im_1, im_2: np.array\n",
    "        Two images that need to be compared\n",
    "    \n",
    "    mask: np.array\n",
    "        Mask on two images\n",
    "        `Zero' or `False' value in mask means that we don't compare `im_1' and `im_2' at these pixels\n",
    "    \n",
    "    Note\n",
    "    ----\n",
    "    \n",
    "    Shape of `im_1', `im_2', `mask' should be the same\n",
    "    \"\"\"\n",
    "    if im_1.shape != im_2.shape: im_1 - im_2  # raise error here\n",
    "    if mask is None:\n",
    "        mask = np.zeros(im_1.shape) + 1\n",
    "    else:\n",
    "        mask = (mask>0)\n",
    "    return (np.abs((im_1 - im_2) * mask)).sum() / mask.sum()"
   ]
  },
  {
   "cell_type": "code",
   "execution_count": 3,
   "metadata": {},
   "outputs": [],
   "source": [
    "# 寻找一条线上，低于阈值的部分的局域极小值在列表中的位置\n",
    "def find_lmin(line, thresh=None):\n",
    "    \"\"\"\n",
    "    Variables\n",
    "    ---------\n",
    "    \n",
    "    line: np.array\n",
    "        the line we want to find the local minimun\n",
    "    \n",
    "    thresh: float\n",
    "        we just account the area that the line under than thresh\n",
    "    \n",
    "    Note\n",
    "    ----\n",
    "    \n",
    "    All values in `line' should be larger than zero\n",
    "    as well as `line' should be float and be acceptable for np.nan\n",
    "    \"\"\"\n",
    "    if thresh is None: thresh = np.max(line)\n",
    "    lmin = []\n",
    "    line_mask = np.array(line<thresh, dtype=float)\n",
    "    for i in range(len(line_mask)):\n",
    "        if line_mask[i] == 0.: line_mask[i] = np.nan\n",
    "    line_under_thresh = line * line_mask\n",
    "    for i in range(1,len(line_under_thresh)-1):\n",
    "        if (line_under_thresh[i] <= line_under_thresh[i-1]) \\\n",
    "            and (line_under_thresh[i] <= line_under_thresh[i+1]):\n",
    "            lmin.append(i)\n",
    "    return lmin"
   ]
  },
  {
   "cell_type": "markdown",
   "metadata": {},
   "source": [
    "## 1. 读取数据"
   ]
  },
  {
   "cell_type": "markdown",
   "metadata": {},
   "source": [
    "这里不使用从右上角的编号读取数据的做法\n",
    "\n",
    "从者数据都是通过截图的时候让第一排尽量靠上，用从者坐标的像素数与图片的编号确定从者编号\n",
    "\n",
    "从者所在的横向的像素：67, 255, 442, 630, 817, 1005\n",
    "\n",
    "从者所在的纵向像素分割线：500\n",
    "\n",
    "截图区域：从者右上方 1 像素位置开始，截取右上方 (156\\*130) 大小"
   ]
  },
  {
   "cell_type": "code",
   "execution_count": 4,
   "metadata": {},
   "outputs": [],
   "source": [
    "for img_index in range(14):\n",
    "    img_index_with_0 = \"{:02d}\".format(img_index+1)\n",
    "    # 1. read box picture\n",
    "    img_box_path = \"database/my_box_20180715/\" + img_index_with_0 + \".png\"\n",
    "    img_box = plt.imread(img_box_path)[:,:,:3]\n",
    "    if img_box.shape[0] / img_box.shape[1] != 0.5625:\n",
    "        raise ValueError(\"Please import figures correctly!\")\n",
    "    img_box = resize(img_box, (720,1280), mode=\"reflect\")\n",
    "    # 2. read servant indicator\n",
    "    im_servant_indicator = []\n",
    "    im_servant_indicator.append(plt.imread(\"database/servant_indicator/gold.png\")[:,:,:3])\n",
    "    im_servant_indicator.append(plt.imread(\"database/servant_indicator/silver.png\")[:,:,:3])\n",
    "    im_servant_indicator.append(plt.imread(\"database/servant_indicator/bronze.png\")[:,:,:3])\n",
    "    im_servant_indicator_mask = np.zeros(im_servant_indicator[0].shape)\n",
    "    im_servant_indicator_mask[:,:45,:] += 1\n",
    "    im_servant_indicator_mask[:,111:,:] += 1\n",
    "    # 3. locate servant\n",
    "    servant_location = []\n",
    "    col_estimate = np.array([67, 255, 442, 630, 817, 1005])\n",
    "    row_index = range(330,720-19)\n",
    "    for i in col_estimate:\n",
    "        for rarity in range(3):\n",
    "            col_diff = np.array([image_diff(img_box[j:j+19, i:i+158, :], im_servant_indicator[rarity], \\\n",
    "                                            im_servant_indicator_mask) for j in row_index ])\n",
    "            col_lmin = find_lmin(col_diff, 0.07)\n",
    "            for j in col_lmin:\n",
    "                servant_location.append([i, j+330])\n",
    "    # 4. dump servant figure\n",
    "    for loc in servant_location:\n",
    "        servant_index = img_index*12 + col_estimate.searchsorted(loc[0]) + 1\n",
    "        if loc[1] > 500: servant_index += 6\n",
    "        plt.imsave(\"database/servant_database/\" + \"{:03d}\".format(servant_index) + \".png\", \\\n",
    "                   img_box[loc[1]-131:loc[1]-1, loc[0]+1:loc[0]+157, :])"
   ]
  },
  {
   "cell_type": "code",
   "execution_count": null,
   "metadata": {},
   "outputs": [],
   "source": []
  }
 ],
 "metadata": {
  "kernelspec": {
   "display_name": "Python 3",
   "language": "python",
   "name": "python3"
  },
  "language_info": {
   "codemirror_mode": {
    "name": "ipython",
    "version": 3
   },
   "file_extension": ".py",
   "mimetype": "text/x-python",
   "name": "python",
   "nbconvert_exporter": "python",
   "pygments_lexer": "ipython3",
   "version": "3.6.5"
  }
 },
 "nbformat": 4,
 "nbformat_minor": 2
}
